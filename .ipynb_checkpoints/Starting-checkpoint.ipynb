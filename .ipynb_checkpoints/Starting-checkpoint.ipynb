{
 "cells": [
  {
   "cell_type": "code",
   "execution_count": null,
   "id": "713cb2ec-5c89-4d09-b51c-cdfd82553257",
   "metadata": {},
   "outputs": [],
   "source": []
  },
  {
   "cell_type": "code",
   "execution_count": 2,
   "id": "009bbf86-29a0-4698-923c-399243816ab1",
   "metadata": {
    "tags": []
   },
   "outputs": [
    {
     "name": "stdout",
     "output_type": "stream",
     "text": [
      "The path of the folder 'Neo4jPython' on your local disk is: C:\\Users\\pc\\Neo4jPython\\Neo4jPython\n"
     ]
    }
   ],
   "source": [
    "import os\n",
    "\n",
    "folder_name = \"Neo4jPython\"\n",
    "folder_path = os.path.join(os.getcwd(), folder_name)\n",
    "\n",
    "print(\"The path of the folder 'Neo4jPython' on your local disk is:\", folder_path)\n"
   ]
  },
  {
   "cell_type": "code",
   "execution_count": 10,
   "id": "c8a8718d-c829-4c7b-8040-ea379d3a8d98",
   "metadata": {
    "tags": []
   },
   "outputs": [],
   "source": [
    "# Testing section"
   ]
  },
  {
   "cell_type": "code",
   "execution_count": 27,
   "id": "68a2dff0-3b94-4f86-90f1-887a036db97c",
   "metadata": {
    "tags": []
   },
   "outputs": [],
   "source": [
    "import numpy as np\n",
    "import pandas as pd\n",
    "import matplotlib.pyplot as plt\n",
    "from sklearn.linear_model import LinearRegression\n",
    "from scipy import stats\n"
   ]
  },
  {
   "cell_type": "code",
   "execution_count": 29,
   "id": "528845f3-0e31-46e9-97ea-f13791b5f7e8",
   "metadata": {
    "tags": []
   },
   "outputs": [],
   "source": [
    "# Creating a Pandas DataFrame"
   ]
  },
  {
   "cell_type": "code",
   "execution_count": 31,
   "id": "824fff3e-81c8-4488-a33f-2011847d202b",
   "metadata": {
    "tags": []
   },
   "outputs": [],
   "source": [
    "data = {\"column1\" : [1,2,3,4,5], \"coloumn2\" :[6,7,8,9,10]}"
   ]
  },
  {
   "cell_type": "code",
   "execution_count": 33,
   "id": "7687008e-9702-4729-94a6-6c74945191b6",
   "metadata": {
    "tags": []
   },
   "outputs": [
    {
     "data": {
      "text/html": [
       "<div>\n",
       "<style scoped>\n",
       "    .dataframe tbody tr th:only-of-type {\n",
       "        vertical-align: middle;\n",
       "    }\n",
       "\n",
       "    .dataframe tbody tr th {\n",
       "        vertical-align: top;\n",
       "    }\n",
       "\n",
       "    .dataframe thead th {\n",
       "        text-align: right;\n",
       "    }\n",
       "</style>\n",
       "<table border=\"1\" class=\"dataframe\">\n",
       "  <thead>\n",
       "    <tr style=\"text-align: right;\">\n",
       "      <th></th>\n",
       "      <th>column1</th>\n",
       "      <th>coloumn2</th>\n",
       "    </tr>\n",
       "  </thead>\n",
       "  <tbody>\n",
       "    <tr>\n",
       "      <th>0</th>\n",
       "      <td>1</td>\n",
       "      <td>6</td>\n",
       "    </tr>\n",
       "    <tr>\n",
       "      <th>1</th>\n",
       "      <td>2</td>\n",
       "      <td>7</td>\n",
       "    </tr>\n",
       "    <tr>\n",
       "      <th>2</th>\n",
       "      <td>3</td>\n",
       "      <td>8</td>\n",
       "    </tr>\n",
       "    <tr>\n",
       "      <th>3</th>\n",
       "      <td>4</td>\n",
       "      <td>9</td>\n",
       "    </tr>\n",
       "    <tr>\n",
       "      <th>4</th>\n",
       "      <td>5</td>\n",
       "      <td>10</td>\n",
       "    </tr>\n",
       "  </tbody>\n",
       "</table>\n",
       "</div>"
      ],
      "text/plain": [
       "   column1  coloumn2\n",
       "0        1         6\n",
       "1        2         7\n",
       "2        3         8\n",
       "3        4         9\n",
       "4        5        10"
      ]
     },
     "execution_count": 33,
     "metadata": {},
     "output_type": "execute_result"
    }
   ],
   "source": [
    "df = pd.DataFrame(data)\n",
    "df"
   ]
  },
  {
   "cell_type": "code",
   "execution_count": null,
   "id": "b08c7333-2e68-47a9-a0f3-d6905bc14b82",
   "metadata": {},
   "outputs": [],
   "source": [
    "# Plotting the data points from the DataFrame using Matplotlib"
   ]
  },
  {
   "cell_type": "code",
   "execution_count": null,
   "id": "9a20a0f0-02e6-4ab7-990b-f1b333d3d40c",
   "metadata": {},
   "outputs": [],
   "source": [
    "plt.scatter(df"
   ]
  },
  {
   "cell_type": "code",
   "execution_count": null,
   "id": "18d2e35a-78a5-4e09-a175-84001cab3766",
   "metadata": {},
   "outputs": [],
   "source": [
    "\n",
    "\n",
    "\n"
   ]
  },
  {
   "cell_type": "code",
   "execution_count": null,
   "id": "ca0cf731-ebd4-4d7d-baab-af5b6f71f028",
   "metadata": {},
   "outputs": [],
   "source": []
  },
  {
   "cell_type": "code",
   "execution_count": null,
   "id": "d911e55b-5384-4a9e-99cf-d0f39044df61",
   "metadata": {},
   "outputs": [],
   "source": []
  },
  {
   "cell_type": "code",
   "execution_count": null,
   "id": "366aa30d-dbef-4c96-bbb0-f637190e4155",
   "metadata": {},
   "outputs": [],
   "source": []
  },
  {
   "cell_type": "code",
   "execution_count": null,
   "id": "2f84f701-40d1-4547-b49b-8c6010b82683",
   "metadata": {},
   "outputs": [],
   "source": []
  }
 ],
 "metadata": {
  "kernelspec": {
   "display_name": "Python 3 (ipykernel)",
   "language": "python",
   "name": "python3"
  },
  "language_info": {
   "codemirror_mode": {
    "name": "ipython",
    "version": 3
   },
   "file_extension": ".py",
   "mimetype": "text/x-python",
   "name": "python",
   "nbconvert_exporter": "python",
   "pygments_lexer": "ipython3",
   "version": "3.11.8"
  }
 },
 "nbformat": 4,
 "nbformat_minor": 5
}

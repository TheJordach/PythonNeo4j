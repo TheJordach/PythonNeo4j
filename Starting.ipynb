{
 "cells": [
  {
   "cell_type": "code",
   "execution_count": null,
   "id": "713cb2ec-5c89-4d09-b51c-cdfd82553257",
   "metadata": {},
   "outputs": [],
   "source": []
  },
  {
   "cell_type": "code",
   "execution_count": 1,
   "id": "009bbf86-29a0-4698-923c-399243816ab1",
   "metadata": {
    "tags": []
   },
   "outputs": [
    {
     "name": "stdout",
     "output_type": "stream",
     "text": [
      "The path of the folder 'Neo4jPython' on your local disk is: C:\\Users\\pc\\Neo4jPython\\Neo4jPython\n"
     ]
    }
   ],
   "source": [
    "import os\n",
    "\n",
    "folder_name = \"Neo4jPython\"\n",
    "folder_path = os.path.join(os.getcwd(), folder_name)\n",
    "\n",
    "print(\"The path of the folder 'Neo4jPython' on your local disk is:\", folder_path)"
   ]
  }
 ],
 "metadata": {
  "kernelspec": {
   "display_name": "Python 3 (ipykernel)",
   "language": "python",
   "name": "python3"
  },
  "language_info": {
   "codemirror_mode": {
    "name": "ipython",
    "version": 3
   },
   "file_extension": ".py",
   "mimetype": "text/x-python",
   "name": "python",
   "nbconvert_exporter": "python",
   "pygments_lexer": "ipython3",
   "version": "3.11.8"
  }
 },
 "nbformat": 4,
 "nbformat_minor": 5
}

{
 "cells": [
  {
   "cell_type": "code",
   "execution_count": null,
   "id": "713cb2ec-5c89-4d09-b51c-cdfd82553257",
   "metadata": {},
   "outputs": [],
   "source": []
  },
  {
   "cell_type": "code",
   "execution_count": 2,
   "id": "009bbf86-29a0-4698-923c-399243816ab1",
   "metadata": {
    "tags": []
   },
   "outputs": [
    {
     "name": "stdout",
     "output_type": "stream",
     "text": [
      "The path of the folder 'Neo4jPython' on your local disk is: C:\\Users\\pc\\Neo4jPython\\Neo4jPython\n"
     ]
    }
   ],
   "source": [
    "import os\n",
    "\n",
    "folder_name = \"Neo4jPython\"\n",
    "folder_path = os.path.join(os.getcwd(), folder_name)\n",
    "\n",
    "print(\"The path of the folder 'Neo4jPython' on your local disk is:\", folder_path)\n"
   ]
  },
  {
   "cell_type": "code",
   "execution_count": 10,
   "id": "c8a8718d-c829-4c7b-8040-ea379d3a8d98",
   "metadata": {
    "tags": []
   },
   "outputs": [],
   "source": [
    "# Testing section"
   ]
  },
  {
   "cell_type": "code",
   "execution_count": 6,
   "id": "68a2dff0-3b94-4f86-90f1-887a036db97c",
   "metadata": {
    "tags": []
   },
   "outputs": [],
   "source": [
    "import numpy as np\n",
    "import pandas as pd\n",
    "import matplotlib.pyplot as plt\n",
    "from sklearn.linear_model import LinearRegression\n",
    "from scipy import stats\n"
   ]
  },
  {
   "cell_type": "code",
   "execution_count": null,
   "id": "3676bc3f-0bef-4f19-b9bd-033622a4f4c0",
   "metadata": {},
   "outputs": [],
   "source": []
  },
  {
   "cell_type": "code",
   "execution_count": 29,
   "id": "528845f3-0e31-46e9-97ea-f13791b5f7e8",
   "metadata": {
    "tags": []
   },
   "outputs": [],
   "source": [
    "# Creating a Pandas DataFrame"
   ]
  },
  {
   "cell_type": "code",
   "execution_count": 22,
   "id": "824fff3e-81c8-4488-a33f-2011847d202b",
   "metadata": {
    "tags": []
   },
   "outputs": [],
   "source": [
    "data = {\"column1\" : [1,2,3,4,5], \"column2\" :[6,7,8,9,10]}"
   ]
  },
  {
   "cell_type": "code",
   "execution_count": null,
   "id": "84c71859-68a4-413f-9d72-3a2f76115a29",
   "metadata": {},
   "outputs": [],
   "source": []
  },
  {
   "cell_type": "code",
   "execution_count": null,
   "id": "70ca10ba-ca75-41ff-8f09-110d25773226",
   "metadata": {},
   "outputs": [],
   "source": []
  },
  {
   "cell_type": "code",
   "execution_count": 24,
   "id": "7687008e-9702-4729-94a6-6c74945191b6",
   "metadata": {
    "tags": []
   },
   "outputs": [
    {
     "data": {
      "text/html": [
       "<div>\n",
       "<style scoped>\n",
       "    .dataframe tbody tr th:only-of-type {\n",
       "        vertical-align: middle;\n",
       "    }\n",
       "\n",
       "    .dataframe tbody tr th {\n",
       "        vertical-align: top;\n",
       "    }\n",
       "\n",
       "    .dataframe thead th {\n",
       "        text-align: right;\n",
       "    }\n",
       "</style>\n",
       "<table border=\"1\" class=\"dataframe\">\n",
       "  <thead>\n",
       "    <tr style=\"text-align: right;\">\n",
       "      <th></th>\n",
       "      <th>column1</th>\n",
       "      <th>column2</th>\n",
       "    </tr>\n",
       "  </thead>\n",
       "  <tbody>\n",
       "    <tr>\n",
       "      <th>0</th>\n",
       "      <td>1</td>\n",
       "      <td>6</td>\n",
       "    </tr>\n",
       "    <tr>\n",
       "      <th>1</th>\n",
       "      <td>2</td>\n",
       "      <td>7</td>\n",
       "    </tr>\n",
       "    <tr>\n",
       "      <th>2</th>\n",
       "      <td>3</td>\n",
       "      <td>8</td>\n",
       "    </tr>\n",
       "    <tr>\n",
       "      <th>3</th>\n",
       "      <td>4</td>\n",
       "      <td>9</td>\n",
       "    </tr>\n",
       "    <tr>\n",
       "      <th>4</th>\n",
       "      <td>5</td>\n",
       "      <td>10</td>\n",
       "    </tr>\n",
       "  </tbody>\n",
       "</table>\n",
       "</div>"
      ],
      "text/plain": [
       "   column1  column2\n",
       "0        1        6\n",
       "1        2        7\n",
       "2        3        8\n",
       "3        4        9\n",
       "4        5       10"
      ]
     },
     "execution_count": 24,
     "metadata": {},
     "output_type": "execute_result"
    }
   ],
   "source": [
    "df = pd.DataFrame(data)\n",
    "df"
   ]
  },
  {
   "cell_type": "code",
   "execution_count": null,
   "id": "e8cf2ed6-0027-45b9-8782-0a83597ae090",
   "metadata": {},
   "outputs": [],
   "source": []
  },
  {
   "cell_type": "code",
   "execution_count": null,
   "id": "190654fc-7aed-4c00-9427-cef816b44bca",
   "metadata": {},
   "outputs": [],
   "source": []
  },
  {
   "cell_type": "code",
   "execution_count": null,
   "id": "b08c7333-2e68-47a9-a0f3-d6905bc14b82",
   "metadata": {},
   "outputs": [],
   "source": [
    "# Plotting the data points from the DataFrame using Matplotlib"
   ]
  },
  {
   "cell_type": "code",
   "execution_count": 26,
   "id": "9a20a0f0-02e6-4ab7-990b-f1b333d3d40c",
   "metadata": {},
   "outputs": [
    {
     "data": {
      "image/png": "[encoded data removed]",
      "text/plain": [
       "<Figure size 640x480 with 1 Axes>"
      ]
     },
     "metadata": {},
     "output_type": "display_data"
    }
   ],
   "source": [
    "plt.scatter(df[\"column1\"],df[\"column2\"], color = \"red\", label=\"datapoint\")\n",
    "#adding label \n",
    "plt.xlabel(\"column1\")\n",
    "plt.ylabel(\"column2\")\n",
    "plt.title(\"simple plot with Data point and Lines of best Fit\")\n",
    "plt.legend()\n",
    "plt.show()"
   ]
  },
  {
   "cell_type": "code",
   "execution_count": null,
   "id": "00126ffe-1f33-4965-b149-5dc6efbee2e0",
   "metadata": {},
   "outputs": [],
   "source": []
  },
  {
   "cell_type": "code",
   "execution_count": 20,
   "id": "b4da7796-bbb5-46b6-9dab-fbdfae95dfb9",
   "metadata": {
    "tags": []
   },
   "outputs": [],
   "source": [
    "# Performing a simple linear regression using scikit-learn"
   ]
  },
  {
   "cell_type": "code",
   "execution_count": 30,
   "id": "d52e8ce8-adac-48b4-9bdc-e2bd3e5320d5",
   "metadata": {
    "tags": []
   },
   "outputs": [],
   "source": [
    "X = df[\"column1\"].values.reshape(-1,1)\n",
    "y= df[\"column2\"].values\n",
    "model = LinearRegression().fit(X,y)"
   ]
  },
  {
   "cell_type": "code",
   "execution_count": 32,
   "id": "5d8326f7-23de-4849-b781-4452cc3a7cb0",
   "metadata": {
    "tags": []
   },
   "outputs": [],
   "source": [
    "# Using SciPy to perform a simple t-test"
   ]
  },
  {
   "cell_type": "code",
   "execution_count": 36,
   "id": "05c79860-4c6d-45eb-977f-8652ef06c6ee",
   "metadata": {
    "tags": []
   },
   "outputs": [],
   "source": [
    "t_statistic, p_value= stats.ttest_ind(df[\"column1\"],df[\"column2\"])\n"
   ]
  },
  {
   "cell_type": "code",
   "execution_count": 38,
   "id": "cee7c51b-9a73-4ff3-b34f-1f441ce8d023",
   "metadata": {
    "tags": []
   },
   "outputs": [
    {
     "name": "stdout",
     "output_type": "stream",
     "text": [
      "t-statistic: -5.0 p-value: 0.001052825793366539\n"
     ]
    }
   ],
   "source": [
    "print(\"t-statistic:\", t_statistic, \"p-value:\", p_value)"
   ]
  },
  {
   "cell_type": "code",
   "execution_count": null,
   "id": "765494c7-5b0d-4e97-98e9-6057108867a0",
   "metadata": {},
   "outputs": [],
   "source": []
  },
  {
   "cell_type": "code",
   "execution_count": 9,
   "id": "6a13546e-e67c-4986-94b6-ddf547fdd32e",
   "metadata": {},
   "outputs": [],
   "source": [
    "import xgboost as xgb"
   ]
  },
  {
   "cell_type": "code",
   "execution_count": 41,
   "id": "f927c593-dc87-4b25-bc55-87cac6bea9c8",
   "metadata": {
    "tags": []
   },
   "outputs": [],
   "source": [
    "from neo4j import GraphDatabase\n",
    "from graphdatascience import GraphDataScience\n",
    "import pandas as pd "
   ]
  },
  {
   "cell_type": "code",
   "execution_count": null,
   "id": "d0905e32-ebd3-43f4-9db6-29a2edebfe30",
   "metadata": {},
   "outputs": [],
   "source": []
  },
  {
   "cell_type": "code",
   "execution_count": 43,
   "id": "ff560db2-b98f-4156-a9da-b47b09ae996a",
   "metadata": {
    "tags": []
   },
   "outputs": [],
   "source": [
    "uri =\"bolt://localhost:7687\"\n",
    "user =\"neo4j\"\n",
    "password=\"neoj4Python\""
   ]
  },
  {
   "cell_type": "code",
   "execution_count": null,
   "id": "bd985e46-9f66-4151-b896-f147e9a2542e",
   "metadata": {},
   "outputs": [],
   "source": []
  },
  {
   "cell_type": "code",
   "execution_count": null,
   "id": "61af8ea1-801e-457c-b33d-8a93be3e9a6e",
   "metadata": {},
   "outputs": [],
   "source": []
  },
  {
   "cell_type": "code",
   "execution_count": null,
   "id": "b44ae84a-3545-4b4b-b07c-76ed971c4f45",
   "metadata": {},
   "outputs": [],
   "source": []
  },
  {
   "cell_type": "code",
   "execution_count": null,
   "id": "6801ee20-110b-426b-8e3b-817433741736",
   "metadata": {},
   "outputs": [],
   "source": []
  },
  {
   "cell_type": "code",
   "execution_count": 47,
   "id": "f4622321-f905-4bc7-a921-24d5a2af1d40",
   "metadata": {
    "tags": []
   },
   "outputs": [],
   "source": [
    "gds = GraphDataScience(uri, auth=(user,password))"
   ]
  },
  {
   "cell_type": "code",
   "execution_count": null,
   "id": "60c8456c-1eff-4611-9cc6-3b8b0cea1dad",
   "metadata": {},
   "outputs": [],
   "source": []
  },
  {
   "cell_type": "code",
   "execution_count": 49,
   "id": "ae8fe5c1-a78c-42be-93ed-453a3cc6930b",
   "metadata": {
    "tags": []
   },
   "outputs": [
    {
     "data": {
      "text/html": [
       "<div>\n",
       "<style scoped>\n",
       "    .dataframe tbody tr th:only-of-type {\n",
       "        vertical-align: middle;\n",
       "    }\n",
       "\n",
       "    .dataframe tbody tr th {\n",
       "        vertical-align: top;\n",
       "    }\n",
       "\n",
       "    .dataframe thead th {\n",
       "        text-align: right;\n",
       "    }\n",
       "</style>\n",
       "<table border=\"1\" class=\"dataframe\">\n",
       "  <thead>\n",
       "    <tr style=\"text-align: right;\">\n",
       "      <th></th>\n",
       "      <th>Name</th>\n",
       "    </tr>\n",
       "  </thead>\n",
       "  <tbody>\n",
       "    <tr>\n",
       "      <th>0</th>\n",
       "      <td>Keanu Reeves</td>\n",
       "    </tr>\n",
       "    <tr>\n",
       "      <th>1</th>\n",
       "      <td>Carrie-Anne Moss</td>\n",
       "    </tr>\n",
       "    <tr>\n",
       "      <th>2</th>\n",
       "      <td>Laurence Fishburne</td>\n",
       "    </tr>\n",
       "    <tr>\n",
       "      <th>3</th>\n",
       "      <td>Hugo Weaving</td>\n",
       "    </tr>\n",
       "    <tr>\n",
       "      <th>4</th>\n",
       "      <td>Andy Wachowski</td>\n",
       "    </tr>\n",
       "  </tbody>\n",
       "</table>\n",
       "</div>"
      ],
      "text/plain": [
       "                 Name\n",
       "0        Keanu Reeves\n",
       "1    Carrie-Anne Moss\n",
       "2  Laurence Fishburne\n",
       "3        Hugo Weaving\n",
       "4      Andy Wachowski"
      ]
     },
     "execution_count": 49,
     "metadata": {},
     "output_type": "execute_result"
    }
   ],
   "source": [
    "gds.run_cypher(\"\"\"\n",
    "\n",
    "MATCH (n:Person)\n",
    "RETURN n.name as Name\n",
    "LIMIT 5\n",
    "\"\"\")"
   ]
  },
  {
   "cell_type": "code",
   "execution_count": null,
   "id": "76a8e5d6-9787-4261-9697-fa352bf330c5",
   "metadata": {},
   "outputs": [],
   "source": []
  },
  {
   "cell_type": "code",
   "execution_count": null,
   "id": "9e753ae2-d946-4846-a9b7-0f979613cc8b",
   "metadata": {},
   "outputs": [],
   "source": []
  },
  {
   "cell_type": "code",
   "execution_count": null,
   "id": "6dd26e79-ee06-4027-b55c-07512ca0a200",
   "metadata": {},
   "outputs": [],
   "source": []
  },
  {
   "cell_type": "code",
   "execution_count": null,
   "id": "6151a08a-6b74-4c18-807b-f508750883d5",
   "metadata": {},
   "outputs": [],
   "source": []
  },
  {
   "cell_type": "code",
   "execution_count": null,
   "id": "afafc90f-c816-453a-9a8d-824eec6862b7",
   "metadata": {},
   "outputs": [],
   "source": []
  },
  {
   "cell_type": "code",
   "execution_count": null,
   "id": "4d5aa133-6d53-4805-afa8-d4736017fb75",
   "metadata": {},
   "outputs": [],
   "source": []
  },
  {
   "cell_type": "code",
   "execution_count": null,
   "id": "01df853c-1ddf-45d5-b5ad-27ac82b440c0",
   "metadata": {},
   "outputs": [],
   "source": []
  },
  {
   "cell_type": "code",
   "execution_count": null,
   "id": "163eeb96-4863-4dae-8dde-0632db84c89c",
   "metadata": {},
   "outputs": [],
   "source": []
  },
  {
   "cell_type": "code",
   "execution_count": null,
   "id": "3110b918-99da-4082-a7d5-aa886f689b6e",
   "metadata": {},
   "outputs": [],
   "source": []
  },
  {
   "cell_type": "code",
   "execution_count": null,
   "id": "3612cbe7-d92b-4667-b733-60eaf7278c11",
   "metadata": {},
   "outputs": [],
   "source": []
  },
  {
   "cell_type": "code",
   "execution_count": null,
   "id": "00e5ad34-3ba1-4f8f-bf18-ce507a13b393",
   "metadata": {},
   "outputs": [],
   "source": []
  },
  {
   "cell_type": "code",
   "execution_count": null,
   "id": "ee65df30-3fd2-4376-8f6e-18a9cbcb0cf2",
   "metadata": {},
   "outputs": [],
   "source": []
  },
  {
   "cell_type": "code",
   "execution_count": null,
   "id": "ba2ed0cc-4203-4661-9555-c89a3997bc41",
   "metadata": {},
   "outputs": [],
   "source": []
  },
  {
   "cell_type": "code",
   "execution_count": null,
   "id": "88566cd2-80e4-4f94-85eb-010ee9eeaa97",
   "metadata": {},
   "outputs": [],
   "source": []
  },
  {
   "cell_type": "code",
   "execution_count": null,
   "id": "3dd8f9ca-86e0-44bd-bfa1-93915ab989ca",
   "metadata": {},
   "outputs": [],
   "source": []
  },
  {
   "cell_type": "code",
   "execution_count": null,
   "id": "d95bf982-31b6-43dc-b43e-681bf16db8c5",
   "metadata": {},
   "outputs": [],
   "source": []
  },
  {
   "cell_type": "code",
   "execution_count": null,
   "id": "18d2e35a-78a5-4e09-a175-84001cab3766",
   "metadata": {},
   "outputs": [],
   "source": [
    "\n",
    "\n",
    "\n"
   ]
  },
  {
   "cell_type": "code",
   "execution_count": null,
   "id": "ca0cf731-ebd4-4d7d-baab-af5b6f71f028",
   "metadata": {},
   "outputs": [],
   "source": []
  },
  {
   "cell_type": "code",
   "execution_count": null,
   "id": "d911e55b-5384-4a9e-99cf-d0f39044df61",
   "metadata": {},
   "outputs": [],
   "source": []
  },
  {
   "cell_type": "code",
   "execution_count": null,
   "id": "366aa30d-dbef-4c96-bbb0-f637190e4155",
   "metadata": {},
   "outputs": [],
   "source": []
  },
  {
   "cell_type": "code",
   "execution_count": null,
   "id": "2f84f701-40d1-4547-b49b-8c6010b82683",
   "metadata": {},
   "outputs": [],
   "source": []
  }
 ],
 "metadata": {
  "kernelspec": {
   "display_name": "Python 3 (ipykernel)",
   "language": "python",
   "name": "python3"
  },
  "language_info": {
   "codemirror_mode": {
    "name": "ipython",
    "version": 3
   },
   "file_extension": ".py",
   "mimetype": "text/x-python",
   "name": "python",
   "nbconvert_exporter": "python",
   "pygments_lexer": "ipython3",
   "version": "3.11.8"
  }
 },
 "nbformat": 4,
 "nbformat_minor": 5
}
